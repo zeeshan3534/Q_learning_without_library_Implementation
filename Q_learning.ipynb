{
  "nbformat": 4,
  "nbformat_minor": 0,
  "metadata": {
    "colab": {
      "provenance": []
    },
    "kernelspec": {
      "name": "python3",
      "display_name": "Python 3"
    },
    "language_info": {
      "name": "python"
    }
  },
  "cells": [
    {
      "cell_type": "code",
      "source": [
        "import numpy as np \n",
        "location_to_state={\n",
        "    'L1':0,\n",
        "    'L2':1,\n",
        "    'L3':2,\n",
        "    'L4':3,\n",
        "    'L5':4,\n",
        "    'L6':5,\n",
        "    'L7':6,\n",
        "    'L8':7,\n",
        "    'L9':8\n",
        "}"
      ],
      "metadata": {
        "id": "Kkq8iQyT8w4B"
      },
      "execution_count": null,
      "outputs": []
    },
    {
      "cell_type": "code",
      "source": [
        "actions = [0,1,2,3,4,5,6,7,8]"
      ],
      "metadata": {
        "id": "AxGzychw9Ozp"
      },
      "execution_count": null,
      "outputs": []
    },
    {
      "cell_type": "code",
      "source": [
        "\n",
        "rewards = np.array([[0,1,0,0,0,0,0,0,0],\n",
        "                    [1,0,1,0,1,0,0,0,0],\n",
        "                    [0,1,0,0,0,1,0,0,0],\n",
        "                    [0,0,0,0,0,0,1,0,0],\n",
        "                    [0,1,0,0,0,0,0,1,0],\n",
        "                    [0,0,1,0,0,0,0,0,0],\n",
        "                    [0,0,0,1,0,0,0,1,0],\n",
        "                    [0,0,0,0,1,0,1,0,1],\n",
        "                    [0,0,0,0,0,0,0,1,0]])"
      ],
      "metadata": {
        "id": "c57x8Okt9X5_"
      },
      "execution_count": null,
      "outputs": []
    },
    {
      "cell_type": "code",
      "source": [
        "state_to_location = dict(((state,location) for location,state in location_to_state.items()))\n",
        "gamma = 0.75 \n",
        "alpha = 0.9"
      ],
      "metadata": {
        "id": "M-GntfqZ_JBl"
      },
      "execution_count": null,
      "outputs": []
    },
    {
      "cell_type": "code",
      "source": [
        "class QAgent():\n",
        "  def __init__(self,alpha,gamma,location_to_state,actions,rewards,state_to_location):\n",
        "    self.gamma=gamma\n",
        "    self.alpha = alpha\n",
        "    self.actions = actions\n",
        "    self.location_to_state = location_to_state\n",
        "    self.rewards =rewards\n",
        "    self.state_to_location = state_to_location\n",
        "\n",
        "\n",
        "    M = len (location_to_state) \n",
        "    self.Q = np.zeros ((M,M), dtype = None, order= 'C')\n",
        "    # Training the robot in the environment\n",
        "  def training(self, start_location, end_location, iterations):\n",
        "        rewards_new = np.copy(self.rewards)\n",
        "\n",
        "        lst = []\n",
        "        ending_state = self.location_to_state[end_location]\n",
        "        rewards_new[ending_state, ending_state] = 999\n",
        "        #picking a random current state\n",
        "        for i in range(iterations) :\n",
        "            current_state = np.random.randint(0,9)\n",
        "            # print(current_state)\n",
        "\n",
        "            # lst.append(current_state)\n",
        "\n",
        "            playable_actions =[]\n",
        "            # iterate through theIrewards matrix to get the states\n",
        "            # directly reachable from the randomly chosen current state\n",
        "            # assign those state in a List named playable actions.\n",
        "            for j in range (9) :\n",
        "              if rewards_new[current_state,j] > 0:\n",
        "                # print(j)\n",
        "                playable_actions.append(j)\n",
        "                #choosing a random next state\n",
        "        next_state = np.random.choice(playable_actions)\n",
        "        #finding temporal difference\n",
        "        TD = rewards_new[current_state, next_state] + \\\n",
        "                  self. gamma *self.Q[next_state, np.argmax(self.Q[next_state,])] - self.Q[current_state,next_state]\n",
        "        self.Q[current_state, next_state] += self.alpha * TD\n",
        "        route = [start_location]\n",
        "        next_location= start_location\n",
        "        # Get the route\n",
        "        self.get_optimal_route(start_location, end_location, next_location, route, self.Q)\n",
        "\n",
        "        \n",
        "        # Get the optimal route\n",
        "  def get_optimal_route(self, start_location, end_location, next_location, route, Q):\n",
        "            while (next_location != end_location):\n",
        "\n",
        "              starting_state = self.location_to_state[start_location]\n",
        "              next_state = np.argmax(Q[starting_state, ])\n",
        "              next_location= self.state_to_location[next_state]\n",
        "              route.append(next_location)\n",
        "              start_location=next_location\n",
        "            print(route)\n"
      ],
      "metadata": {
        "id": "8DS2MNwq_W6r"
      },
      "execution_count": null,
      "outputs": []
    },
    {
      "cell_type": "code",
      "source": [
        "qagent = QAgent(alpha,gamma, location_to_state, actions, rewards,state_to_location)\n",
        "qagent.training('L9','L1', 2000)"
      ],
      "metadata": {
        "colab": {
          "base_uri": "https://localhost:8080/"
        },
        "id": "xR5BnDOvSEKL",
        "outputId": "960b43c6-44d1-4d0c-a779-d263d979b07e"
      },
      "execution_count": null,
      "outputs": [
        {
          "output_type": "stream",
          "name": "stdout",
          "text": [
            "['L9', 'L8', 'L1']\n"
          ]
        }
      ]
    }
  ]
}